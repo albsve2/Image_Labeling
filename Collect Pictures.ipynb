{
 "cells": [
  {
   "metadata": {},
   "cell_type": "markdown",
   "source": "This script captures images from a camera and saves them to a specified directory.",
   "id": "568bc45b9b4bdde2"
  },
  {
   "metadata": {},
   "cell_type": "code",
   "outputs": [],
   "execution_count": null,
   "source": [
    "import cv2\n",
    "import os\n",
    "import datetime\n",
    "\n",
    "def capture_image_from_camera(save_dir=\"captured_images\", camera_index=0): # Standardmapp och kameraindex\n",
    "\n",
    "    # Skapa mappen om den inte redan finns\n",
    "    os.makedirs(save_dir, exist_ok=True)\n",
    "\n",
    "    # Anslut till kameran\n",
    "    cap = cv2.VideoCapture(camera_index)\n",
    "\n",
    "    if not cap.isOpened():\n",
    "        print(\"Kunde inte ansluta till kameran.\")\n",
    "        return\n",
    "\n",
    "    print(\"Tryck på 'c' för att ta en bild. Tryck på 'q' för att avsluta.\")\n",
    "\n",
    "    while True:\n",
    "        # Läs bild från kameran\n",
    "        ret, frame = cap.read()\n",
    "\n",
    "        if not ret:\n",
    "            print(\"Kunde inte läsa från kameran.\")\n",
    "            break\n",
    "\n",
    "        # Visa bilden i ett fönster\n",
    "        cv2.imshow(\"Kamera\", frame)\n",
    "\n",
    "        # Vänta på tangenttryckning\n",
    "        key = cv2.waitKey(1) & 0xFF\n",
    "\n",
    "        # Ta bild vid tryck på 'c'\n",
    "        if key == ord('c'):\n",
    "            # Filnamn med tidstämpel\n",
    "            timestamp = datetime.datetime.now().strftime(\"%Y%m%d_%H%M%S\")\n",
    "            filename = f\"image_{timestamp}.jpg\"\n",
    "            filepath = os.path.join(save_dir, filename)\n",
    "            cv2.imwrite(filepath, frame)\n",
    "            print(f\"Bild sparad: {filepath}\")\n",
    "\n",
    "        # Avsluta programmet vid tryck på 'q'\n",
    "        elif key == ord('q'):\n",
    "            print(\"Avslutar...\")\n",
    "            break\n",
    "\n",
    "    # Stäng kameran och alla fönster\n",
    "    cap.release()\n",
    "    cv2.destroyAllWindows()\n",
    "\n",
    "if __name__ == \"__main__\":\n",
    "    capture_image_from_camera()"
   ],
   "id": "1c26a74ff4720a4a"
  }
 ],
 "metadata": {
  "kernelspec": {
   "display_name": "Python 3",
   "language": "python",
   "name": "python3"
  },
  "language_info": {
   "codemirror_mode": {
    "name": "ipython",
    "version": 2
   },
   "file_extension": ".py",
   "mimetype": "text/x-python",
   "name": "python",
   "nbconvert_exporter": "python",
   "pygments_lexer": "ipython2",
   "version": "2.7.6"
  }
 },
 "nbformat": 4,
 "nbformat_minor": 5
}
